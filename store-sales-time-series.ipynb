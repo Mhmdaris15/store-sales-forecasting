{
 "cells": [
  {
   "cell_type": "markdown",
   "id": "135d159f-c5d4-4aaf-9f4f-a6bbd543580c",
   "metadata": {},
   "source": [
    "## Introduction"
   ]
  },
  {
   "cell_type": "markdown",
   "id": "63ce0fc5-5810-40a3-8c89-1f05b33a3151",
   "metadata": {},
   "source": [
    "There are 54 stores and 33 prodcut families in the data. The time serie starts from 2013-01-01 and finishes in 2017-08-31. However, you know that Kaggle gives us splitted two data as train and test. The dates in the test data are for the 15 days after the last date in the training data. Date range in the test data will be very important to us while we are defining a cross-validation strategy and creating new features.\n",
    "\n",
    "Our main mission in this competition is, predicting sales for each product family and store combinations.\n",
    "\n",
    "There are 6 data that we will study on them step by step.\n",
    "\n",
    "1. Train\n",
    "2. Test\n",
    "3. Store\n",
    "4. Transactions\n",
    "5. Holidays and Events\n",
    "6. Daily Oil Price\n",
    "\n",
    "`The train data` contains time series of the stores and the product families combination. The sales column gives the total sales for a product family at a particular store at a given date. Fractional values are possible since products can be sold in fractional units (1.5 kg of cheese, for instance, as opposed to 1 bag of chips).The onpromotion column gives the total number of items in a product family that were being promoted at a store at a given date.\n",
    "\n",
    "`Stores data` gives some information about stores such as city, state, type, cluster.\n",
    "\n",
    "`Transaction data` is highly correlated with train's sales column. You can understand the sales patterns of the stores.\n",
    "\n",
    "`Holidays and events data` is a meta data. This data is quite valuable to understand past sales, trend and seasonality components. However, it needs to be arranged. You are going to find a comprehensive data manipulation for this data. That part will be one of the most important chapter in this notebook.\n",
    "\n",
    "`Daily Oil Price data` is another data which will help us. Ecuador is an oil-dependent country and it's economical health is highly vulnerable to shocks in oil prices. That's why, it will help us to understand which product families affected in positive or negative way by oil price.\n",
    "\n",
    "When you look at the data description, you will see \"Additional Notes\". These notes may be significant to catch some patterns or anomalies. I'm sharing them with you to remember.\n",
    "* Wages in the public sector are paid every two weeks on the 15 th and on the last day of the month. Supermarket sales could be affected by this.\n",
    "* A magnitude 7.8 earthquake struck Ecuador on April 16, 2016. People rallied in relief efforts donating water and other first need products which greatly affected supermarket sales for several weeks after the earthquake."
   ]
  },
  {
   "cell_type": "markdown",
   "id": "f5105759-9367-4a34-b090-b974329edd26",
   "metadata": {},
   "source": [
    "## Import Libraries"
   ]
  },
  {
   "cell_type": "code",
   "execution_count": 117,
   "id": "d000b16f-926e-4a3d-b6d9-a4414a8dee0c",
   "metadata": {},
   "outputs": [],
   "source": [
    "import pandas as pd\n",
    "import numpy as np\n",
    "import matplotlib.pyplot as plt\n",
    "import seaborn as sns\n",
    "import plotly.express as px\n",
    "\n",
    "import warnings\n",
    "warnings.filterwarnings('ignore')"
   ]
  },
  {
   "cell_type": "markdown",
   "id": "12b7d4f9-49f1-471b-a229-0c558f25cebb",
   "metadata": {},
   "source": [
    "## Loading Data"
   ]
  },
  {
   "cell_type": "code",
   "execution_count": 82,
   "id": "63908ad6-0084-4f80-8281-fbd082548b55",
   "metadata": {},
   "outputs": [],
   "source": [
    "# Import Data\n",
    "train = pd.read_csv(\"./store-sales-time-series-forecasting/train.csv\", index_col=0)\n",
    "test = pd.read_csv(\"./store-sales-time-series-forecasting/test.csv\")\n",
    "oil = pd.read_csv(\"./store-sales-time-series-forecasting/oil.csv\")\n",
    "holidays_events = pd.read_csv(\"./store-sales-time-series-forecasting/holidays_events.csv\")\n",
    "sample_submission = pd.read_csv(\"./store-sales-time-series-forecasting/sample_submission.csv\")\n",
    "stores = pd.read_csv(\"./store-sales-time-series-forecasting/stores.csv\")\n",
    "transactions = pd.read_csv(\"./store-sales-time-series-forecasting/transactions.csv\").sort_values(['store_nbr', 'date'])\n",
    "\n",
    "# Datetime\n",
    "train[\"date\"] = pd.to_datetime(train.date)\n",
    "test[\"date\"] = pd.to_datetime(test.date)\n",
    "oil[\"date\"] = pd.to_datetime(oil.date)\n",
    "holidays_events[\"date\"] = pd.to_datetime(holidays_events.date)\n",
    "transactions[\"date\"] = pd.to_datetime(transactions.date)\n",
    "\n",
    "# Data Types\n",
    "train['onpromotion'] = train['onpromotion'].astype(\"float16\")\n",
    "train['sales'] = train['sales'].astype('float32')\n",
    "stores['cluster'] = stores['cluster'].astype('int8')"
   ]
  },
  {
   "cell_type": "code",
   "execution_count": 83,
   "id": "ab25b424-9115-4766-9c2a-bb9ea9be6011",
   "metadata": {},
   "outputs": [
    {
     "data": {
      "text/html": [
       "<div>\n",
       "<style scoped>\n",
       "    .dataframe tbody tr th:only-of-type {\n",
       "        vertical-align: middle;\n",
       "    }\n",
       "\n",
       "    .dataframe tbody tr th {\n",
       "        vertical-align: top;\n",
       "    }\n",
       "\n",
       "    .dataframe thead th {\n",
       "        text-align: right;\n",
       "    }\n",
       "</style>\n",
       "<table border=\"1\" class=\"dataframe\">\n",
       "  <thead>\n",
       "    <tr style=\"text-align: right;\">\n",
       "      <th></th>\n",
       "      <th>date</th>\n",
       "      <th>store_nbr</th>\n",
       "      <th>family</th>\n",
       "      <th>sales</th>\n",
       "      <th>onpromotion</th>\n",
       "    </tr>\n",
       "    <tr>\n",
       "      <th>id</th>\n",
       "      <th></th>\n",
       "      <th></th>\n",
       "      <th></th>\n",
       "      <th></th>\n",
       "      <th></th>\n",
       "    </tr>\n",
       "  </thead>\n",
       "  <tbody>\n",
       "    <tr>\n",
       "      <th>0</th>\n",
       "      <td>2013-01-01</td>\n",
       "      <td>1</td>\n",
       "      <td>AUTOMOTIVE</td>\n",
       "      <td>0.000000</td>\n",
       "      <td>0.0</td>\n",
       "    </tr>\n",
       "    <tr>\n",
       "      <th>1</th>\n",
       "      <td>2013-01-01</td>\n",
       "      <td>1</td>\n",
       "      <td>BABY CARE</td>\n",
       "      <td>0.000000</td>\n",
       "      <td>0.0</td>\n",
       "    </tr>\n",
       "    <tr>\n",
       "      <th>2</th>\n",
       "      <td>2013-01-01</td>\n",
       "      <td>1</td>\n",
       "      <td>BEAUTY</td>\n",
       "      <td>0.000000</td>\n",
       "      <td>0.0</td>\n",
       "    </tr>\n",
       "    <tr>\n",
       "      <th>3</th>\n",
       "      <td>2013-01-01</td>\n",
       "      <td>1</td>\n",
       "      <td>BEVERAGES</td>\n",
       "      <td>0.000000</td>\n",
       "      <td>0.0</td>\n",
       "    </tr>\n",
       "    <tr>\n",
       "      <th>4</th>\n",
       "      <td>2013-01-01</td>\n",
       "      <td>1</td>\n",
       "      <td>BOOKS</td>\n",
       "      <td>0.000000</td>\n",
       "      <td>0.0</td>\n",
       "    </tr>\n",
       "    <tr>\n",
       "      <th>...</th>\n",
       "      <td>...</td>\n",
       "      <td>...</td>\n",
       "      <td>...</td>\n",
       "      <td>...</td>\n",
       "      <td>...</td>\n",
       "    </tr>\n",
       "    <tr>\n",
       "      <th>3000883</th>\n",
       "      <td>2017-08-15</td>\n",
       "      <td>9</td>\n",
       "      <td>POULTRY</td>\n",
       "      <td>438.132996</td>\n",
       "      <td>15.0</td>\n",
       "    </tr>\n",
       "    <tr>\n",
       "      <th>3000884</th>\n",
       "      <td>2017-08-15</td>\n",
       "      <td>9</td>\n",
       "      <td>PREPARED FOODS</td>\n",
       "      <td>154.552994</td>\n",
       "      <td>8.0</td>\n",
       "    </tr>\n",
       "    <tr>\n",
       "      <th>3000885</th>\n",
       "      <td>2017-08-15</td>\n",
       "      <td>9</td>\n",
       "      <td>PRODUCE</td>\n",
       "      <td>2419.729004</td>\n",
       "      <td>148.0</td>\n",
       "    </tr>\n",
       "    <tr>\n",
       "      <th>3000886</th>\n",
       "      <td>2017-08-15</td>\n",
       "      <td>9</td>\n",
       "      <td>SCHOOL AND OFFICE SUPPLIES</td>\n",
       "      <td>121.000000</td>\n",
       "      <td>10.0</td>\n",
       "    </tr>\n",
       "    <tr>\n",
       "      <th>3000887</th>\n",
       "      <td>2017-08-15</td>\n",
       "      <td>9</td>\n",
       "      <td>SEAFOOD</td>\n",
       "      <td>16.000000</td>\n",
       "      <td>2.0</td>\n",
       "    </tr>\n",
       "  </tbody>\n",
       "</table>\n",
       "<p>3000888 rows × 5 columns</p>\n",
       "</div>"
      ],
      "text/plain": [
       "              date  store_nbr                      family        sales  \\\n",
       "id                                                                       \n",
       "0       2013-01-01          1                  AUTOMOTIVE     0.000000   \n",
       "1       2013-01-01          1                   BABY CARE     0.000000   \n",
       "2       2013-01-01          1                      BEAUTY     0.000000   \n",
       "3       2013-01-01          1                   BEVERAGES     0.000000   \n",
       "4       2013-01-01          1                       BOOKS     0.000000   \n",
       "...            ...        ...                         ...          ...   \n",
       "3000883 2017-08-15          9                     POULTRY   438.132996   \n",
       "3000884 2017-08-15          9              PREPARED FOODS   154.552994   \n",
       "3000885 2017-08-15          9                     PRODUCE  2419.729004   \n",
       "3000886 2017-08-15          9  SCHOOL AND OFFICE SUPPLIES   121.000000   \n",
       "3000887 2017-08-15          9                     SEAFOOD    16.000000   \n",
       "\n",
       "         onpromotion  \n",
       "id                    \n",
       "0                0.0  \n",
       "1                0.0  \n",
       "2                0.0  \n",
       "3                0.0  \n",
       "4                0.0  \n",
       "...              ...  \n",
       "3000883         15.0  \n",
       "3000884          8.0  \n",
       "3000885        148.0  \n",
       "3000886         10.0  \n",
       "3000887          2.0  \n",
       "\n",
       "[3000888 rows x 5 columns]"
      ]
     },
     "execution_count": 83,
     "metadata": {},
     "output_type": "execute_result"
    }
   ],
   "source": [
    "train"
   ]
  },
  {
   "cell_type": "markdown",
   "id": "ba48651d-7892-403f-abf2-1624ae6d10ca",
   "metadata": {},
   "source": [
    "* `The training data`, comprising time series of features store_nbr, family, and onpromotion as well as the target sales.\n",
    "* `store_nbr` identifies the store at which the products are sold.\n",
    "* `family` identifies the type of product sold.\n",
    "* `sales` gives the total sales for a product family at a particular store at a given date. Fractional values are possible since products can be sold in fractional units (1.5 kg of cheese, for instance, as opposed to 1 bag of chips).\n",
    "* `onpromotion` gives the total number of items in a product family that were being promoted at a store at a given date."
   ]
  },
  {
   "cell_type": "code",
   "execution_count": 109,
   "id": "6c3bfddd-814b-49a7-a40f-fc34b6b495da",
   "metadata": {},
   "outputs": [
    {
     "data": {
      "text/html": [
       "<div>\n",
       "<style scoped>\n",
       "    .dataframe tbody tr th:only-of-type {\n",
       "        vertical-align: middle;\n",
       "    }\n",
       "\n",
       "    .dataframe tbody tr th {\n",
       "        vertical-align: top;\n",
       "    }\n",
       "\n",
       "    .dataframe thead th {\n",
       "        text-align: right;\n",
       "    }\n",
       "</style>\n",
       "<table border=\"1\" class=\"dataframe\">\n",
       "  <thead>\n",
       "    <tr style=\"text-align: right;\">\n",
       "      <th></th>\n",
       "      <th>id</th>\n",
       "      <th>date</th>\n",
       "      <th>store_nbr</th>\n",
       "      <th>family</th>\n",
       "      <th>onpromotion</th>\n",
       "    </tr>\n",
       "  </thead>\n",
       "  <tbody>\n",
       "    <tr>\n",
       "      <th>0</th>\n",
       "      <td>3000888</td>\n",
       "      <td>2017-08-16</td>\n",
       "      <td>1</td>\n",
       "      <td>AUTOMOTIVE</td>\n",
       "      <td>20.0</td>\n",
       "    </tr>\n",
       "    <tr>\n",
       "      <th>1</th>\n",
       "      <td>3000889</td>\n",
       "      <td>2017-08-16</td>\n",
       "      <td>1</td>\n",
       "      <td>BABY CARE</td>\n",
       "      <td>1.0</td>\n",
       "    </tr>\n",
       "    <tr>\n",
       "      <th>2</th>\n",
       "      <td>3000890</td>\n",
       "      <td>2017-08-16</td>\n",
       "      <td>1</td>\n",
       "      <td>BEAUTY</td>\n",
       "      <td>8.0</td>\n",
       "    </tr>\n",
       "    <tr>\n",
       "      <th>3</th>\n",
       "      <td>3000891</td>\n",
       "      <td>2017-08-16</td>\n",
       "      <td>1</td>\n",
       "      <td>BEVERAGES</td>\n",
       "      <td>560.0</td>\n",
       "    </tr>\n",
       "    <tr>\n",
       "      <th>4</th>\n",
       "      <td>3000892</td>\n",
       "      <td>2017-08-16</td>\n",
       "      <td>1</td>\n",
       "      <td>BOOKS</td>\n",
       "      <td>1.0</td>\n",
       "    </tr>\n",
       "    <tr>\n",
       "      <th>...</th>\n",
       "      <td>...</td>\n",
       "      <td>...</td>\n",
       "      <td>...</td>\n",
       "      <td>...</td>\n",
       "      <td>...</td>\n",
       "    </tr>\n",
       "    <tr>\n",
       "      <th>28507</th>\n",
       "      <td>3029395</td>\n",
       "      <td>2017-08-31</td>\n",
       "      <td>9</td>\n",
       "      <td>POULTRY</td>\n",
       "      <td>54.0</td>\n",
       "    </tr>\n",
       "    <tr>\n",
       "      <th>28508</th>\n",
       "      <td>3029396</td>\n",
       "      <td>2017-08-31</td>\n",
       "      <td>9</td>\n",
       "      <td>PREPARED FOODS</td>\n",
       "      <td>10.0</td>\n",
       "    </tr>\n",
       "    <tr>\n",
       "      <th>28509</th>\n",
       "      <td>3029397</td>\n",
       "      <td>2017-08-31</td>\n",
       "      <td>9</td>\n",
       "      <td>PRODUCE</td>\n",
       "      <td>302.0</td>\n",
       "    </tr>\n",
       "    <tr>\n",
       "      <th>28510</th>\n",
       "      <td>3029398</td>\n",
       "      <td>2017-08-31</td>\n",
       "      <td>9</td>\n",
       "      <td>SCHOOL AND OFFICE SUPPLIES</td>\n",
       "      <td>15.0</td>\n",
       "    </tr>\n",
       "    <tr>\n",
       "      <th>28511</th>\n",
       "      <td>3029399</td>\n",
       "      <td>2017-08-31</td>\n",
       "      <td>9</td>\n",
       "      <td>SEAFOOD</td>\n",
       "      <td>8.0</td>\n",
       "    </tr>\n",
       "  </tbody>\n",
       "</table>\n",
       "<p>28512 rows × 5 columns</p>\n",
       "</div>"
      ],
      "text/plain": [
       "            id       date  store_nbr                      family  onpromotion\n",
       "0      3000888 2017-08-16          1                  AUTOMOTIVE         20.0\n",
       "1      3000889 2017-08-16          1                   BABY CARE          1.0\n",
       "2      3000890 2017-08-16          1                      BEAUTY          8.0\n",
       "3      3000891 2017-08-16          1                   BEVERAGES        560.0\n",
       "4      3000892 2017-08-16          1                       BOOKS          1.0\n",
       "...        ...        ...        ...                         ...          ...\n",
       "28507  3029395 2017-08-31          9                     POULTRY         54.0\n",
       "28508  3029396 2017-08-31          9              PREPARED FOODS         10.0\n",
       "28509  3029397 2017-08-31          9                     PRODUCE        302.0\n",
       "28510  3029398 2017-08-31          9  SCHOOL AND OFFICE SUPPLIES         15.0\n",
       "28511  3029399 2017-08-31          9                     SEAFOOD          8.0\n",
       "\n",
       "[28512 rows x 5 columns]"
      ]
     },
     "execution_count": 109,
     "metadata": {},
     "output_type": "execute_result"
    }
   ],
   "source": [
    "test"
   ]
  },
  {
   "cell_type": "markdown",
   "id": "16a7b09a-cd91-4b02-bbad-f0e95fba249a",
   "metadata": {},
   "source": [
    "* The test data, having the same features as the training data. You will predict the target sales for the dates in this file.\n",
    "* The dates in the test data are for the 15 days after the last date in the training data."
   ]
  },
  {
   "cell_type": "code",
   "execution_count": 85,
   "id": "694dc199-6c1a-40f2-a012-82f78dbc4822",
   "metadata": {},
   "outputs": [
    {
     "data": {
      "text/html": [
       "<div>\n",
       "<style scoped>\n",
       "    .dataframe tbody tr th:only-of-type {\n",
       "        vertical-align: middle;\n",
       "    }\n",
       "\n",
       "    .dataframe tbody tr th {\n",
       "        vertical-align: top;\n",
       "    }\n",
       "\n",
       "    .dataframe thead th {\n",
       "        text-align: right;\n",
       "    }\n",
       "</style>\n",
       "<table border=\"1\" class=\"dataframe\">\n",
       "  <thead>\n",
       "    <tr style=\"text-align: right;\">\n",
       "      <th></th>\n",
       "      <th>date</th>\n",
       "      <th>dcoilwtico</th>\n",
       "    </tr>\n",
       "  </thead>\n",
       "  <tbody>\n",
       "    <tr>\n",
       "      <th>0</th>\n",
       "      <td>2013-01-01</td>\n",
       "      <td>NaN</td>\n",
       "    </tr>\n",
       "    <tr>\n",
       "      <th>1</th>\n",
       "      <td>2013-01-02</td>\n",
       "      <td>93.14</td>\n",
       "    </tr>\n",
       "    <tr>\n",
       "      <th>2</th>\n",
       "      <td>2013-01-03</td>\n",
       "      <td>92.97</td>\n",
       "    </tr>\n",
       "    <tr>\n",
       "      <th>3</th>\n",
       "      <td>2013-01-04</td>\n",
       "      <td>93.12</td>\n",
       "    </tr>\n",
       "    <tr>\n",
       "      <th>4</th>\n",
       "      <td>2013-01-07</td>\n",
       "      <td>93.20</td>\n",
       "    </tr>\n",
       "    <tr>\n",
       "      <th>...</th>\n",
       "      <td>...</td>\n",
       "      <td>...</td>\n",
       "    </tr>\n",
       "    <tr>\n",
       "      <th>1213</th>\n",
       "      <td>2017-08-25</td>\n",
       "      <td>47.65</td>\n",
       "    </tr>\n",
       "    <tr>\n",
       "      <th>1214</th>\n",
       "      <td>2017-08-28</td>\n",
       "      <td>46.40</td>\n",
       "    </tr>\n",
       "    <tr>\n",
       "      <th>1215</th>\n",
       "      <td>2017-08-29</td>\n",
       "      <td>46.46</td>\n",
       "    </tr>\n",
       "    <tr>\n",
       "      <th>1216</th>\n",
       "      <td>2017-08-30</td>\n",
       "      <td>45.96</td>\n",
       "    </tr>\n",
       "    <tr>\n",
       "      <th>1217</th>\n",
       "      <td>2017-08-31</td>\n",
       "      <td>47.26</td>\n",
       "    </tr>\n",
       "  </tbody>\n",
       "</table>\n",
       "<p>1218 rows × 2 columns</p>\n",
       "</div>"
      ],
      "text/plain": [
       "           date  dcoilwtico\n",
       "0    2013-01-01         NaN\n",
       "1    2013-01-02       93.14\n",
       "2    2013-01-03       92.97\n",
       "3    2013-01-04       93.12\n",
       "4    2013-01-07       93.20\n",
       "...         ...         ...\n",
       "1213 2017-08-25       47.65\n",
       "1214 2017-08-28       46.40\n",
       "1215 2017-08-29       46.46\n",
       "1216 2017-08-30       45.96\n",
       "1217 2017-08-31       47.26\n",
       "\n",
       "[1218 rows x 2 columns]"
      ]
     },
     "execution_count": 85,
     "metadata": {},
     "output_type": "execute_result"
    }
   ],
   "source": [
    "oil"
   ]
  },
  {
   "cell_type": "markdown",
   "id": "de158154-8bd2-46df-962c-1f7037a2ee5b",
   "metadata": {},
   "source": [
    "* Daily oil price. Includes values during both the train and test data timeframes. (Ecuador is an oil-dependent country and it's economical health is highly vulnerable to shocks in oil prices.)"
   ]
  },
  {
   "cell_type": "code",
   "execution_count": 86,
   "id": "ccc810b1-bc62-4647-93c7-9846c15e73d7",
   "metadata": {},
   "outputs": [
    {
     "data": {
      "text/html": [
       "<div>\n",
       "<style scoped>\n",
       "    .dataframe tbody tr th:only-of-type {\n",
       "        vertical-align: middle;\n",
       "    }\n",
       "\n",
       "    .dataframe tbody tr th {\n",
       "        vertical-align: top;\n",
       "    }\n",
       "\n",
       "    .dataframe thead th {\n",
       "        text-align: right;\n",
       "    }\n",
       "</style>\n",
       "<table border=\"1\" class=\"dataframe\">\n",
       "  <thead>\n",
       "    <tr style=\"text-align: right;\">\n",
       "      <th></th>\n",
       "      <th>date</th>\n",
       "      <th>type</th>\n",
       "      <th>locale</th>\n",
       "      <th>locale_name</th>\n",
       "      <th>description</th>\n",
       "      <th>transferred</th>\n",
       "    </tr>\n",
       "  </thead>\n",
       "  <tbody>\n",
       "    <tr>\n",
       "      <th>0</th>\n",
       "      <td>2012-03-02</td>\n",
       "      <td>Holiday</td>\n",
       "      <td>Local</td>\n",
       "      <td>Manta</td>\n",
       "      <td>Fundacion de Manta</td>\n",
       "      <td>False</td>\n",
       "    </tr>\n",
       "    <tr>\n",
       "      <th>1</th>\n",
       "      <td>2012-04-01</td>\n",
       "      <td>Holiday</td>\n",
       "      <td>Regional</td>\n",
       "      <td>Cotopaxi</td>\n",
       "      <td>Provincializacion de Cotopaxi</td>\n",
       "      <td>False</td>\n",
       "    </tr>\n",
       "    <tr>\n",
       "      <th>2</th>\n",
       "      <td>2012-04-12</td>\n",
       "      <td>Holiday</td>\n",
       "      <td>Local</td>\n",
       "      <td>Cuenca</td>\n",
       "      <td>Fundacion de Cuenca</td>\n",
       "      <td>False</td>\n",
       "    </tr>\n",
       "    <tr>\n",
       "      <th>3</th>\n",
       "      <td>2012-04-14</td>\n",
       "      <td>Holiday</td>\n",
       "      <td>Local</td>\n",
       "      <td>Libertad</td>\n",
       "      <td>Cantonizacion de Libertad</td>\n",
       "      <td>False</td>\n",
       "    </tr>\n",
       "    <tr>\n",
       "      <th>4</th>\n",
       "      <td>2012-04-21</td>\n",
       "      <td>Holiday</td>\n",
       "      <td>Local</td>\n",
       "      <td>Riobamba</td>\n",
       "      <td>Cantonizacion de Riobamba</td>\n",
       "      <td>False</td>\n",
       "    </tr>\n",
       "    <tr>\n",
       "      <th>...</th>\n",
       "      <td>...</td>\n",
       "      <td>...</td>\n",
       "      <td>...</td>\n",
       "      <td>...</td>\n",
       "      <td>...</td>\n",
       "      <td>...</td>\n",
       "    </tr>\n",
       "    <tr>\n",
       "      <th>345</th>\n",
       "      <td>2017-12-22</td>\n",
       "      <td>Additional</td>\n",
       "      <td>National</td>\n",
       "      <td>Ecuador</td>\n",
       "      <td>Navidad-3</td>\n",
       "      <td>False</td>\n",
       "    </tr>\n",
       "    <tr>\n",
       "      <th>346</th>\n",
       "      <td>2017-12-23</td>\n",
       "      <td>Additional</td>\n",
       "      <td>National</td>\n",
       "      <td>Ecuador</td>\n",
       "      <td>Navidad-2</td>\n",
       "      <td>False</td>\n",
       "    </tr>\n",
       "    <tr>\n",
       "      <th>347</th>\n",
       "      <td>2017-12-24</td>\n",
       "      <td>Additional</td>\n",
       "      <td>National</td>\n",
       "      <td>Ecuador</td>\n",
       "      <td>Navidad-1</td>\n",
       "      <td>False</td>\n",
       "    </tr>\n",
       "    <tr>\n",
       "      <th>348</th>\n",
       "      <td>2017-12-25</td>\n",
       "      <td>Holiday</td>\n",
       "      <td>National</td>\n",
       "      <td>Ecuador</td>\n",
       "      <td>Navidad</td>\n",
       "      <td>False</td>\n",
       "    </tr>\n",
       "    <tr>\n",
       "      <th>349</th>\n",
       "      <td>2017-12-26</td>\n",
       "      <td>Additional</td>\n",
       "      <td>National</td>\n",
       "      <td>Ecuador</td>\n",
       "      <td>Navidad+1</td>\n",
       "      <td>False</td>\n",
       "    </tr>\n",
       "  </tbody>\n",
       "</table>\n",
       "<p>350 rows × 6 columns</p>\n",
       "</div>"
      ],
      "text/plain": [
       "          date        type    locale locale_name  \\\n",
       "0   2012-03-02     Holiday     Local       Manta   \n",
       "1   2012-04-01     Holiday  Regional    Cotopaxi   \n",
       "2   2012-04-12     Holiday     Local      Cuenca   \n",
       "3   2012-04-14     Holiday     Local    Libertad   \n",
       "4   2012-04-21     Holiday     Local    Riobamba   \n",
       "..         ...         ...       ...         ...   \n",
       "345 2017-12-22  Additional  National     Ecuador   \n",
       "346 2017-12-23  Additional  National     Ecuador   \n",
       "347 2017-12-24  Additional  National     Ecuador   \n",
       "348 2017-12-25     Holiday  National     Ecuador   \n",
       "349 2017-12-26  Additional  National     Ecuador   \n",
       "\n",
       "                       description  transferred  \n",
       "0               Fundacion de Manta        False  \n",
       "1    Provincializacion de Cotopaxi        False  \n",
       "2              Fundacion de Cuenca        False  \n",
       "3        Cantonizacion de Libertad        False  \n",
       "4        Cantonizacion de Riobamba        False  \n",
       "..                             ...          ...  \n",
       "345                      Navidad-3        False  \n",
       "346                      Navidad-2        False  \n",
       "347                      Navidad-1        False  \n",
       "348                        Navidad        False  \n",
       "349                      Navidad+1        False  \n",
       "\n",
       "[350 rows x 6 columns]"
      ]
     },
     "execution_count": 86,
     "metadata": {},
     "output_type": "execute_result"
    }
   ],
   "source": [
    "holidays_events"
   ]
  },
  {
   "cell_type": "markdown",
   "id": "987b08ca-02d1-4ef9-b124-f88fac2c567f",
   "metadata": {},
   "source": [
    "* Holidays and Events, with metadata\n",
    "* NOTE: Pay special attention to the transferred column. A holiday that is transferred officially falls on that calendar day, but was moved to another date by the government. A transferred day is more like a normal day than a holiday. To find the day that it was actually celebrated, look for the corresponding row where type is Transfer. For example, the holiday Independencia de Guayaquil was transferred from 2012-10-09 to 2012-10-12, which means it was celebrated on 2012-10-12. Days that are type Bridge are extra days that are added to a holiday (e.g., to extend the break across a long weekend). These are frequently made up by the type Work Day which is a day not normally scheduled for work (e.g., Saturday) that is meant to payback the Bridge.\n",
    "* Additional holidays are days added a regular calendar holiday, for example, as typically happens around Christmas (making Christmas Eve a holiday)."
   ]
  },
  {
   "cell_type": "code",
   "execution_count": 87,
   "id": "f7fff9e8-abe4-499a-a25f-752ad9fc439f",
   "metadata": {},
   "outputs": [
    {
     "data": {
      "text/html": [
       "<div>\n",
       "<style scoped>\n",
       "    .dataframe tbody tr th:only-of-type {\n",
       "        vertical-align: middle;\n",
       "    }\n",
       "\n",
       "    .dataframe tbody tr th {\n",
       "        vertical-align: top;\n",
       "    }\n",
       "\n",
       "    .dataframe thead th {\n",
       "        text-align: right;\n",
       "    }\n",
       "</style>\n",
       "<table border=\"1\" class=\"dataframe\">\n",
       "  <thead>\n",
       "    <tr style=\"text-align: right;\">\n",
       "      <th></th>\n",
       "      <th>id</th>\n",
       "      <th>sales</th>\n",
       "    </tr>\n",
       "  </thead>\n",
       "  <tbody>\n",
       "    <tr>\n",
       "      <th>0</th>\n",
       "      <td>3000888</td>\n",
       "      <td>0.0</td>\n",
       "    </tr>\n",
       "    <tr>\n",
       "      <th>1</th>\n",
       "      <td>3000889</td>\n",
       "      <td>0.0</td>\n",
       "    </tr>\n",
       "    <tr>\n",
       "      <th>2</th>\n",
       "      <td>3000890</td>\n",
       "      <td>0.0</td>\n",
       "    </tr>\n",
       "    <tr>\n",
       "      <th>3</th>\n",
       "      <td>3000891</td>\n",
       "      <td>0.0</td>\n",
       "    </tr>\n",
       "    <tr>\n",
       "      <th>4</th>\n",
       "      <td>3000892</td>\n",
       "      <td>0.0</td>\n",
       "    </tr>\n",
       "    <tr>\n",
       "      <th>...</th>\n",
       "      <td>...</td>\n",
       "      <td>...</td>\n",
       "    </tr>\n",
       "    <tr>\n",
       "      <th>28507</th>\n",
       "      <td>3029395</td>\n",
       "      <td>0.0</td>\n",
       "    </tr>\n",
       "    <tr>\n",
       "      <th>28508</th>\n",
       "      <td>3029396</td>\n",
       "      <td>0.0</td>\n",
       "    </tr>\n",
       "    <tr>\n",
       "      <th>28509</th>\n",
       "      <td>3029397</td>\n",
       "      <td>0.0</td>\n",
       "    </tr>\n",
       "    <tr>\n",
       "      <th>28510</th>\n",
       "      <td>3029398</td>\n",
       "      <td>0.0</td>\n",
       "    </tr>\n",
       "    <tr>\n",
       "      <th>28511</th>\n",
       "      <td>3029399</td>\n",
       "      <td>0.0</td>\n",
       "    </tr>\n",
       "  </tbody>\n",
       "</table>\n",
       "<p>28512 rows × 2 columns</p>\n",
       "</div>"
      ],
      "text/plain": [
       "            id  sales\n",
       "0      3000888    0.0\n",
       "1      3000889    0.0\n",
       "2      3000890    0.0\n",
       "3      3000891    0.0\n",
       "4      3000892    0.0\n",
       "...        ...    ...\n",
       "28507  3029395    0.0\n",
       "28508  3029396    0.0\n",
       "28509  3029397    0.0\n",
       "28510  3029398    0.0\n",
       "28511  3029399    0.0\n",
       "\n",
       "[28512 rows x 2 columns]"
      ]
     },
     "execution_count": 87,
     "metadata": {},
     "output_type": "execute_result"
    }
   ],
   "source": [
    "sample_submission"
   ]
  },
  {
   "cell_type": "markdown",
   "id": "9855edcb-39d0-4eb9-80c6-6e4527832f16",
   "metadata": {},
   "source": [
    "* A sample submission file in the correct format."
   ]
  },
  {
   "cell_type": "code",
   "execution_count": 88,
   "id": "b52b6c17-8cbf-426a-8b6e-023d8cd924c1",
   "metadata": {},
   "outputs": [
    {
     "data": {
      "text/html": [
       "<div>\n",
       "<style scoped>\n",
       "    .dataframe tbody tr th:only-of-type {\n",
       "        vertical-align: middle;\n",
       "    }\n",
       "\n",
       "    .dataframe tbody tr th {\n",
       "        vertical-align: top;\n",
       "    }\n",
       "\n",
       "    .dataframe thead th {\n",
       "        text-align: right;\n",
       "    }\n",
       "</style>\n",
       "<table border=\"1\" class=\"dataframe\">\n",
       "  <thead>\n",
       "    <tr style=\"text-align: right;\">\n",
       "      <th></th>\n",
       "      <th>store_nbr</th>\n",
       "      <th>city</th>\n",
       "      <th>state</th>\n",
       "      <th>type</th>\n",
       "      <th>cluster</th>\n",
       "    </tr>\n",
       "  </thead>\n",
       "  <tbody>\n",
       "    <tr>\n",
       "      <th>0</th>\n",
       "      <td>1</td>\n",
       "      <td>Quito</td>\n",
       "      <td>Pichincha</td>\n",
       "      <td>D</td>\n",
       "      <td>13</td>\n",
       "    </tr>\n",
       "    <tr>\n",
       "      <th>1</th>\n",
       "      <td>2</td>\n",
       "      <td>Quito</td>\n",
       "      <td>Pichincha</td>\n",
       "      <td>D</td>\n",
       "      <td>13</td>\n",
       "    </tr>\n",
       "    <tr>\n",
       "      <th>2</th>\n",
       "      <td>3</td>\n",
       "      <td>Quito</td>\n",
       "      <td>Pichincha</td>\n",
       "      <td>D</td>\n",
       "      <td>8</td>\n",
       "    </tr>\n",
       "    <tr>\n",
       "      <th>3</th>\n",
       "      <td>4</td>\n",
       "      <td>Quito</td>\n",
       "      <td>Pichincha</td>\n",
       "      <td>D</td>\n",
       "      <td>9</td>\n",
       "    </tr>\n",
       "    <tr>\n",
       "      <th>4</th>\n",
       "      <td>5</td>\n",
       "      <td>Santo Domingo</td>\n",
       "      <td>Santo Domingo de los Tsachilas</td>\n",
       "      <td>D</td>\n",
       "      <td>4</td>\n",
       "    </tr>\n",
       "  </tbody>\n",
       "</table>\n",
       "</div>"
      ],
      "text/plain": [
       "   store_nbr           city                           state type  cluster\n",
       "0          1          Quito                       Pichincha    D       13\n",
       "1          2          Quito                       Pichincha    D       13\n",
       "2          3          Quito                       Pichincha    D        8\n",
       "3          4          Quito                       Pichincha    D        9\n",
       "4          5  Santo Domingo  Santo Domingo de los Tsachilas    D        4"
      ]
     },
     "metadata": {},
     "output_type": "display_data"
    },
    {
     "data": {
      "text/html": [
       "<div>\n",
       "<style scoped>\n",
       "    .dataframe tbody tr th:only-of-type {\n",
       "        vertical-align: middle;\n",
       "    }\n",
       "\n",
       "    .dataframe tbody tr th {\n",
       "        vertical-align: top;\n",
       "    }\n",
       "\n",
       "    .dataframe thead th {\n",
       "        text-align: right;\n",
       "    }\n",
       "</style>\n",
       "<table border=\"1\" class=\"dataframe\">\n",
       "  <thead>\n",
       "    <tr style=\"text-align: right;\">\n",
       "      <th></th>\n",
       "      <th>store_nbr</th>\n",
       "      <th>city</th>\n",
       "      <th>state</th>\n",
       "      <th>type</th>\n",
       "      <th>cluster</th>\n",
       "    </tr>\n",
       "  </thead>\n",
       "  <tbody>\n",
       "    <tr>\n",
       "      <th>49</th>\n",
       "      <td>50</td>\n",
       "      <td>Ambato</td>\n",
       "      <td>Tungurahua</td>\n",
       "      <td>A</td>\n",
       "      <td>14</td>\n",
       "    </tr>\n",
       "    <tr>\n",
       "      <th>50</th>\n",
       "      <td>51</td>\n",
       "      <td>Guayaquil</td>\n",
       "      <td>Guayas</td>\n",
       "      <td>A</td>\n",
       "      <td>17</td>\n",
       "    </tr>\n",
       "    <tr>\n",
       "      <th>51</th>\n",
       "      <td>52</td>\n",
       "      <td>Manta</td>\n",
       "      <td>Manabi</td>\n",
       "      <td>A</td>\n",
       "      <td>11</td>\n",
       "    </tr>\n",
       "    <tr>\n",
       "      <th>52</th>\n",
       "      <td>53</td>\n",
       "      <td>Manta</td>\n",
       "      <td>Manabi</td>\n",
       "      <td>D</td>\n",
       "      <td>13</td>\n",
       "    </tr>\n",
       "    <tr>\n",
       "      <th>53</th>\n",
       "      <td>54</td>\n",
       "      <td>El Carmen</td>\n",
       "      <td>Manabi</td>\n",
       "      <td>C</td>\n",
       "      <td>3</td>\n",
       "    </tr>\n",
       "  </tbody>\n",
       "</table>\n",
       "</div>"
      ],
      "text/plain": [
       "    store_nbr       city       state type  cluster\n",
       "49         50     Ambato  Tungurahua    A       14\n",
       "50         51  Guayaquil      Guayas    A       17\n",
       "51         52      Manta      Manabi    A       11\n",
       "52         53      Manta      Manabi    D       13\n",
       "53         54  El Carmen      Manabi    C        3"
      ]
     },
     "metadata": {},
     "output_type": "display_data"
    }
   ],
   "source": [
    "display(stores.head())\n",
    "display(stores.tail())"
   ]
  },
  {
   "cell_type": "markdown",
   "id": "49217a1f-f14f-4112-b860-f62b6f1f5ecc",
   "metadata": {},
   "source": [
    "* Store metadata, including city, state, type, and cluster.\n",
    "* cluster is a grouping of similar stores."
   ]
  },
  {
   "cell_type": "code",
   "execution_count": 89,
   "id": "aaf85ac5-523a-4df3-b1ef-41e295d87d20",
   "metadata": {},
   "outputs": [
    {
     "data": {
      "text/html": [
       "<div>\n",
       "<style scoped>\n",
       "    .dataframe tbody tr th:only-of-type {\n",
       "        vertical-align: middle;\n",
       "    }\n",
       "\n",
       "    .dataframe tbody tr th {\n",
       "        vertical-align: top;\n",
       "    }\n",
       "\n",
       "    .dataframe thead th {\n",
       "        text-align: right;\n",
       "    }\n",
       "</style>\n",
       "<table border=\"1\" class=\"dataframe\">\n",
       "  <thead>\n",
       "    <tr style=\"text-align: right;\">\n",
       "      <th></th>\n",
       "      <th>date</th>\n",
       "      <th>store_nbr</th>\n",
       "      <th>transactions</th>\n",
       "    </tr>\n",
       "  </thead>\n",
       "  <tbody>\n",
       "    <tr>\n",
       "      <th>1</th>\n",
       "      <td>2013-01-02</td>\n",
       "      <td>1</td>\n",
       "      <td>2111</td>\n",
       "    </tr>\n",
       "    <tr>\n",
       "      <th>47</th>\n",
       "      <td>2013-01-03</td>\n",
       "      <td>1</td>\n",
       "      <td>1833</td>\n",
       "    </tr>\n",
       "    <tr>\n",
       "      <th>93</th>\n",
       "      <td>2013-01-04</td>\n",
       "      <td>1</td>\n",
       "      <td>1863</td>\n",
       "    </tr>\n",
       "    <tr>\n",
       "      <th>139</th>\n",
       "      <td>2013-01-05</td>\n",
       "      <td>1</td>\n",
       "      <td>1509</td>\n",
       "    </tr>\n",
       "    <tr>\n",
       "      <th>185</th>\n",
       "      <td>2013-01-06</td>\n",
       "      <td>1</td>\n",
       "      <td>520</td>\n",
       "    </tr>\n",
       "    <tr>\n",
       "      <th>...</th>\n",
       "      <td>...</td>\n",
       "      <td>...</td>\n",
       "      <td>...</td>\n",
       "    </tr>\n",
       "    <tr>\n",
       "      <th>83271</th>\n",
       "      <td>2017-08-11</td>\n",
       "      <td>54</td>\n",
       "      <td>768</td>\n",
       "    </tr>\n",
       "    <tr>\n",
       "      <th>83325</th>\n",
       "      <td>2017-08-12</td>\n",
       "      <td>54</td>\n",
       "      <td>903</td>\n",
       "    </tr>\n",
       "    <tr>\n",
       "      <th>83379</th>\n",
       "      <td>2017-08-13</td>\n",
       "      <td>54</td>\n",
       "      <td>1054</td>\n",
       "    </tr>\n",
       "    <tr>\n",
       "      <th>83433</th>\n",
       "      <td>2017-08-14</td>\n",
       "      <td>54</td>\n",
       "      <td>818</td>\n",
       "    </tr>\n",
       "    <tr>\n",
       "      <th>83487</th>\n",
       "      <td>2017-08-15</td>\n",
       "      <td>54</td>\n",
       "      <td>802</td>\n",
       "    </tr>\n",
       "  </tbody>\n",
       "</table>\n",
       "<p>83488 rows × 3 columns</p>\n",
       "</div>"
      ],
      "text/plain": [
       "            date  store_nbr  transactions\n",
       "1     2013-01-02          1          2111\n",
       "47    2013-01-03          1          1833\n",
       "93    2013-01-04          1          1863\n",
       "139   2013-01-05          1          1509\n",
       "185   2013-01-06          1           520\n",
       "...          ...        ...           ...\n",
       "83271 2017-08-11         54           768\n",
       "83325 2017-08-12         54           903\n",
       "83379 2017-08-13         54          1054\n",
       "83433 2017-08-14         54           818\n",
       "83487 2017-08-15         54           802\n",
       "\n",
       "[83488 rows x 3 columns]"
      ]
     },
     "execution_count": 89,
     "metadata": {},
     "output_type": "execute_result"
    }
   ],
   "source": [
    "transactions"
   ]
  },
  {
   "cell_type": "markdown",
   "id": "b7d20f83-9ca6-472f-bfb5-c928a2d3925a",
   "metadata": {},
   "source": [
    "* Transaction data is highly correlated with train's sales column. You can understand the sales patterns of the stores."
   ]
  },
  {
   "cell_type": "markdown",
   "id": "72c4aaf8-16c0-4f39-a8f4-3773b0b6ba2d",
   "metadata": {},
   "source": [
    "## Checking The Types of Data"
   ]
  },
  {
   "cell_type": "code",
   "execution_count": 90,
   "id": "78273099-f2d6-43f7-b205-49733b2615f5",
   "metadata": {},
   "outputs": [
    {
     "name": "stdout",
     "output_type": "stream",
     "text": [
      "<class 'pandas.core.frame.DataFrame'>\n",
      "Int64Index: 3000888 entries, 0 to 3000887\n",
      "Data columns (total 5 columns):\n",
      " #   Column       Dtype         \n",
      "---  ------       -----         \n",
      " 0   date         datetime64[ns]\n",
      " 1   store_nbr    int64         \n",
      " 2   family       object        \n",
      " 3   sales        float32       \n",
      " 4   onpromotion  float16       \n",
      "dtypes: datetime64[ns](1), float16(1), float32(1), int64(1), object(1)\n",
      "memory usage: 108.8+ MB\n",
      "\n",
      "Is there Null / Missing Values?  False\n"
     ]
    }
   ],
   "source": [
    "train.info()\n",
    "print('\\nIs there Null / Missing Values? ', train.isna().any().any())"
   ]
  },
  {
   "cell_type": "markdown",
   "id": "7e388358-ed3f-4cd0-b8b9-6f0b8398ffaf",
   "metadata": {},
   "source": [
    "* Data has float, integer, datetime, and object values.\n",
    "* No variable column has null/missing values."
   ]
  },
  {
   "cell_type": "code",
   "execution_count": 91,
   "id": "2a0a52d9-fc3f-4f80-be81-bf4904da2698",
   "metadata": {},
   "outputs": [
    {
     "name": "stdout",
     "output_type": "stream",
     "text": [
      "<class 'pandas.core.frame.DataFrame'>\n",
      "RangeIndex: 28512 entries, 0 to 28511\n",
      "Data columns (total 5 columns):\n",
      " #   Column       Non-Null Count  Dtype         \n",
      "---  ------       --------------  -----         \n",
      " 0   id           28512 non-null  int64         \n",
      " 1   date         28512 non-null  datetime64[ns]\n",
      " 2   store_nbr    28512 non-null  int64         \n",
      " 3   family       28512 non-null  object        \n",
      " 4   onpromotion  28512 non-null  float64       \n",
      "dtypes: datetime64[ns](1), float64(1), int64(2), object(1)\n",
      "memory usage: 1.1+ MB\n",
      "\n",
      "Is there Null / Missing Values?  False\n"
     ]
    }
   ],
   "source": [
    "test.info()\n",
    "print('\\nIs there Null / Missing Values? ', test.isna().any().any())"
   ]
  },
  {
   "cell_type": "markdown",
   "id": "626f4c82-5b4f-4222-9e50-936bd9d41491",
   "metadata": {},
   "source": [
    "* Data has float, integer, datetime, and object values.\n",
    "* No variable column has null/missing values."
   ]
  },
  {
   "cell_type": "code",
   "execution_count": 92,
   "id": "df304bfe-d245-40ae-8e3d-229c5731dc8a",
   "metadata": {},
   "outputs": [
    {
     "name": "stdout",
     "output_type": "stream",
     "text": [
      "<class 'pandas.core.frame.DataFrame'>\n",
      "RangeIndex: 350 entries, 0 to 349\n",
      "Data columns (total 6 columns):\n",
      " #   Column       Non-Null Count  Dtype         \n",
      "---  ------       --------------  -----         \n",
      " 0   date         350 non-null    datetime64[ns]\n",
      " 1   type         350 non-null    object        \n",
      " 2   locale       350 non-null    object        \n",
      " 3   locale_name  350 non-null    object        \n",
      " 4   description  350 non-null    object        \n",
      " 5   transferred  350 non-null    bool          \n",
      "dtypes: bool(1), datetime64[ns](1), object(4)\n",
      "memory usage: 14.1+ KB\n",
      "\n",
      "Is there Null / Missing Values?  False\n"
     ]
    }
   ],
   "source": [
    "holidays_events.info()\n",
    "print('\\nIs there Null / Missing Values? ', holidays_events.isna().any().any())"
   ]
  },
  {
   "cell_type": "markdown",
   "id": "bbbdba9d-31e9-4d6f-9f68-311f69c9111c",
   "metadata": {},
   "source": [
    "* Data has only object and boolean values.\n",
    "* No variable column has null/missing values."
   ]
  },
  {
   "cell_type": "code",
   "execution_count": 93,
   "id": "55c7ae95-16a3-46ad-81a5-302d816a57cc",
   "metadata": {},
   "outputs": [
    {
     "name": "stdout",
     "output_type": "stream",
     "text": [
      "<class 'pandas.core.frame.DataFrame'>\n",
      "RangeIndex: 1218 entries, 0 to 1217\n",
      "Data columns (total 2 columns):\n",
      " #   Column      Non-Null Count  Dtype         \n",
      "---  ------      --------------  -----         \n",
      " 0   date        1218 non-null   datetime64[ns]\n",
      " 1   dcoilwtico  1175 non-null   float64       \n",
      "dtypes: datetime64[ns](1), float64(1)\n",
      "memory usage: 19.2 KB\n",
      "\n",
      "Is there Null / Missing Values?  True\n"
     ]
    }
   ],
   "source": [
    "oil.info()\n",
    "print('\\nIs there Null / Missing Values? ', oil.isna().any().any())"
   ]
  },
  {
   "cell_type": "markdown",
   "id": "8a2f4f62-1fb9-422a-9416-391ae877c427",
   "metadata": {},
   "source": [
    "* Data has only datetime and float values.\n",
    "* dcoilwtico column has 43 null/missing values."
   ]
  },
  {
   "cell_type": "code",
   "execution_count": 94,
   "id": "c87374d7-2d7e-4b4a-b341-a53a4ce86e0b",
   "metadata": {},
   "outputs": [
    {
     "name": "stdout",
     "output_type": "stream",
     "text": [
      "<class 'pandas.core.frame.DataFrame'>\n",
      "RangeIndex: 28512 entries, 0 to 28511\n",
      "Data columns (total 2 columns):\n",
      " #   Column  Non-Null Count  Dtype  \n",
      "---  ------  --------------  -----  \n",
      " 0   id      28512 non-null  int64  \n",
      " 1   sales   28512 non-null  float64\n",
      "dtypes: float64(1), int64(1)\n",
      "memory usage: 445.6 KB\n",
      "\n",
      "Is there Null / Missing Values?  False\n"
     ]
    }
   ],
   "source": [
    "sample_submission.info()\n",
    "print('\\nIs there Null / Missing Values? ', sample_submission.isna().any().any())"
   ]
  },
  {
   "cell_type": "markdown",
   "id": "be8abcdc-c55a-4aee-86e8-9f0500b09b0b",
   "metadata": {},
   "source": [
    "* Data has only integer and float values.\n",
    "* No variable column has null/missing values."
   ]
  },
  {
   "cell_type": "code",
   "execution_count": 95,
   "id": "a60e8750-3b11-4d06-9ab7-aad2aa41c0bb",
   "metadata": {},
   "outputs": [
    {
     "name": "stdout",
     "output_type": "stream",
     "text": [
      "<class 'pandas.core.frame.DataFrame'>\n",
      "RangeIndex: 54 entries, 0 to 53\n",
      "Data columns (total 5 columns):\n",
      " #   Column     Non-Null Count  Dtype \n",
      "---  ------     --------------  ----- \n",
      " 0   store_nbr  54 non-null     int64 \n",
      " 1   city       54 non-null     object\n",
      " 2   state      54 non-null     object\n",
      " 3   type       54 non-null     object\n",
      " 4   cluster    54 non-null     int8  \n",
      "dtypes: int64(1), int8(1), object(3)\n",
      "memory usage: 1.9+ KB\n",
      "\n",
      "Is there Null / Missing Values?  False\n"
     ]
    }
   ],
   "source": [
    "stores.info()\n",
    "print('\\nIs there Null / Missing Values? ', stores.isna().any().any())"
   ]
  },
  {
   "cell_type": "markdown",
   "id": "1f02bae6-5f1b-4c2f-8f25-be81f6dba7ad",
   "metadata": {},
   "source": [
    "* Data has only integer and object values.\n",
    "* No variable column has null/missing values."
   ]
  },
  {
   "cell_type": "code",
   "execution_count": 96,
   "id": "7caf8f74-bc20-4d6e-b523-f1b7e1dca4ab",
   "metadata": {},
   "outputs": [
    {
     "name": "stdout",
     "output_type": "stream",
     "text": [
      "<class 'pandas.core.frame.DataFrame'>\n",
      "Int64Index: 83488 entries, 1 to 83487\n",
      "Data columns (total 3 columns):\n",
      " #   Column        Non-Null Count  Dtype         \n",
      "---  ------        --------------  -----         \n",
      " 0   date          83488 non-null  datetime64[ns]\n",
      " 1   store_nbr     83488 non-null  int64         \n",
      " 2   transactions  83488 non-null  int64         \n",
      "dtypes: datetime64[ns](1), int64(2)\n",
      "memory usage: 2.5 MB\n",
      "\n",
      "Is there Null / Missing Values?  False\n"
     ]
    }
   ],
   "source": [
    "transactions.info()\n",
    "print('\\nIs there Null / Missing Values? ', transactions.isna().any().any())"
   ]
  },
  {
   "cell_type": "markdown",
   "id": "690b0458-c383-4a00-8333-49e39762fe9b",
   "metadata": {},
   "source": [
    "* Data has only datetime and integer values.\n",
    "* No variable column has null/missing values."
   ]
  },
  {
   "cell_type": "code",
   "execution_count": 98,
   "id": "171dab29-ee2a-4010-85a5-ba27a8990baf",
   "metadata": {},
   "outputs": [
    {
     "data": {
      "text/plain": [
       "(3000888, 5)"
      ]
     },
     "execution_count": 98,
     "metadata": {},
     "output_type": "execute_result"
    }
   ],
   "source": [
    "train.shape"
   ]
  },
  {
   "cell_type": "markdown",
   "id": "2e0eacd4-8f47-48f8-91f7-62fcdad20c47",
   "metadata": {},
   "source": [
    "* Dataset comprises of 3.000.888 observations and 5 characteristics.\n",
    "* Out of which one is dependent variable (sales) and rest 4 are independent variables."
   ]
  },
  {
   "cell_type": "code",
   "execution_count": 113,
   "id": "f90643fb-d457-4131-8082-9d13a742a721",
   "metadata": {},
   "outputs": [
    {
     "data": {
      "text/plain": [
       "(28512, 4)"
      ]
     },
     "execution_count": 113,
     "metadata": {},
     "output_type": "execute_result"
    }
   ],
   "source": [
    "test.drop(columns=['id']).shape"
   ]
  },
  {
   "cell_type": "markdown",
   "id": "7795f810-305a-416d-adb4-9b3e7e21f7a0",
   "metadata": {},
   "source": [
    "* Dataset comprises of 28.512 observations and 4 characteristics."
   ]
  },
  {
   "cell_type": "code",
   "execution_count": 100,
   "id": "82bcfc15-4cf8-49de-b8d7-10bf85957dd6",
   "metadata": {},
   "outputs": [
    {
     "data": {
      "text/plain": [
       "(1218, 2)"
      ]
     },
     "execution_count": 100,
     "metadata": {},
     "output_type": "execute_result"
    }
   ],
   "source": [
    "oil.shape"
   ]
  },
  {
   "cell_type": "markdown",
   "id": "d8aba4e6-3c77-4012-b26d-1cdd4a32716c",
   "metadata": {},
   "source": [
    "* Dataset comprises of 1218 observations and 2 characteristics."
   ]
  },
  {
   "cell_type": "code",
   "execution_count": 101,
   "id": "fdb0dbe4-c553-4ae7-aea3-20c1d72c19f4",
   "metadata": {},
   "outputs": [
    {
     "data": {
      "text/plain": [
       "(350, 6)"
      ]
     },
     "execution_count": 101,
     "metadata": {},
     "output_type": "execute_result"
    }
   ],
   "source": [
    "holidays_events.shape"
   ]
  },
  {
   "cell_type": "markdown",
   "id": "3d8fabfe-4686-4b3f-ad08-7df6ddb5d509",
   "metadata": {},
   "source": [
    "* Dataset comprises of 350 observations and 6 characteristics."
   ]
  },
  {
   "cell_type": "code",
   "execution_count": 102,
   "id": "4942265b-a8e6-438d-985e-2d2cba6689dc",
   "metadata": {},
   "outputs": [
    {
     "data": {
      "text/plain": [
       "(28512, 2)"
      ]
     },
     "execution_count": 102,
     "metadata": {},
     "output_type": "execute_result"
    }
   ],
   "source": [
    "sample_submission.shape"
   ]
  },
  {
   "cell_type": "markdown",
   "id": "853e1941-3b5e-4868-b528-058da8d7a205",
   "metadata": {},
   "source": [
    "* Dataset comprises of 28.512 observations and 2 characteristics."
   ]
  },
  {
   "cell_type": "code",
   "execution_count": 103,
   "id": "c703612b-76c2-44f5-a36e-5c5b507098fb",
   "metadata": {},
   "outputs": [
    {
     "data": {
      "text/plain": [
       "(54, 5)"
      ]
     },
     "execution_count": 103,
     "metadata": {},
     "output_type": "execute_result"
    }
   ],
   "source": [
    "stores.shape"
   ]
  },
  {
   "cell_type": "markdown",
   "id": "55f9deda-4024-4d89-8f45-815601f658a5",
   "metadata": {},
   "source": [
    "* Dataset comprises of 54 observations and 5 characteristics."
   ]
  },
  {
   "cell_type": "code",
   "execution_count": 105,
   "id": "50902f4e-d9dd-45e4-9d76-c07ab7086896",
   "metadata": {},
   "outputs": [
    {
     "data": {
      "text/plain": [
       "(83488, 3)"
      ]
     },
     "execution_count": 105,
     "metadata": {},
     "output_type": "execute_result"
    }
   ],
   "source": [
    "transactions.shape"
   ]
  },
  {
   "cell_type": "markdown",
   "id": "4efbfbe5-a472-42b2-a804-a776e4c3dcfb",
   "metadata": {},
   "source": [
    "* Dataset comprises of 83.488 observations and 3 characteristics."
   ]
  }
 ],
 "metadata": {
  "kernelspec": {
   "display_name": "Python 3",
   "language": "python",
   "name": "python3"
  },
  "language_info": {
   "codemirror_mode": {
    "name": "ipython",
    "version": 3
   },
   "file_extension": ".py",
   "mimetype": "text/x-python",
   "name": "python",
   "nbconvert_exporter": "python",
   "pygments_lexer": "ipython3",
   "version": "3.8.8"
  }
 },
 "nbformat": 4,
 "nbformat_minor": 5
}
